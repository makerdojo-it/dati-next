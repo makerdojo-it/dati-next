{
 "cells": [
  {
   "cell_type": "markdown",
   "id": "597d5bc5",
   "metadata": {},
   "source": [
    "# Email Spam Classification"
   ]
  },
  {
   "cell_type": "code",
   "execution_count": null,
   "id": "7fa072f8",
   "metadata": {},
   "outputs": [],
   "source": [
    "import pandas as pd\n",
    "import matplotlib.pyplot as plt\n",
    "import seaborn as sns\n",
    "\n",
    "from sklearn.model_selection import train_test_split\n",
    "from sklearn.ensemble import RandomForestClassifier\n",
    "from sklearn.metrics import accuracy_score\n"
   ]
  },
  {
   "cell_type": "code",
   "execution_count": null,
   "id": "2e4a9f63",
   "metadata": {},
   "outputs": [],
   "source": [
    "model = RandomForestClassifier()\n"
   ]
  },
  {
   "cell_type": "code",
   "execution_count": null,
   "id": "76c7e8ed",
   "metadata": {},
   "outputs": [],
   "source": [
    "df = pd.read_csv('DATA/emails.csv')\n",
    "df.head()"
   ]
  },
  {
   "cell_type": "code",
   "execution_count": null,
   "id": "d210ad3a",
   "metadata": {},
   "outputs": [],
   "source": [
    "# drop 'Email No.' column\n"
   ]
  },
  {
   "cell_type": "code",
   "execution_count": null,
   "id": "67001ddc",
   "metadata": {},
   "outputs": [],
   "source": [
    "# Count null values\n"
   ]
  },
  {
   "cell_type": "code",
   "execution_count": null,
   "id": "89c9c6fa",
   "metadata": {},
   "outputs": [],
   "source": [
    "# Count duplicates\n"
   ]
  },
  {
   "cell_type": "code",
   "execution_count": null,
   "id": "e11ea7d3",
   "metadata": {},
   "outputs": [],
   "source": [
    "# Drop duplicates\n"
   ]
  },
  {
   "cell_type": "code",
   "execution_count": null,
   "id": "72934dfe",
   "metadata": {},
   "outputs": [],
   "source": [
    "# explore the data with countplot \n",
    "plt.figure(figsize=(8, 8))\n",
    "sns.countplot(x='Prediction', data=df)\n",
    "plt.title(\"Spam vs Ham Distribution\")\n",
    "plt.xlabel(\"0=Ham , 1=Spam\")\n",
    "plt.show()"
   ]
  },
  {
   "cell_type": "code",
   "execution_count": null,
   "id": "305104f7",
   "metadata": {},
   "outputs": [],
   "source": [
    "# Prepare x and y\n",
    "x = ...\n",
    "y = df['Prediction']"
   ]
  },
  {
   "cell_type": "code",
   "execution_count": null,
   "id": "9db95bfa",
   "metadata": {},
   "outputs": [],
   "source": [
    "# split data\n",
    "x_train, x_test, y_train, y_test = ..."
   ]
  },
  {
   "cell_type": "code",
   "execution_count": null,
   "id": "77149be1",
   "metadata": {},
   "outputs": [],
   "source": [
    "# train the model"
   ]
  },
  {
   "cell_type": "code",
   "execution_count": null,
   "id": "efecc443",
   "metadata": {},
   "outputs": [],
   "source": [
    "# predict\n"
   ]
  },
  {
   "cell_type": "code",
   "execution_count": null,
   "id": "f1dbba54",
   "metadata": {},
   "outputs": [],
   "source": [
    "# calc accuracy\n"
   ]
  },
  {
   "cell_type": "code",
   "execution_count": null,
   "id": "aec87ac7",
   "metadata": {},
   "outputs": [],
   "source": [
    "# display the distribution of classes in y\n",
    "print(y.value_counts())"
   ]
  }
 ],
 "metadata": {
  "kernelspec": {
   "display_name": "base",
   "language": "python",
   "name": "python3"
  },
  "language_info": {
   "codemirror_mode": {
    "name": "ipython",
    "version": 3
   },
   "file_extension": ".py",
   "mimetype": "text/x-python",
   "name": "python",
   "nbconvert_exporter": "python",
   "pygments_lexer": "ipython3",
   "version": "3.12.7"
  }
 },
 "nbformat": 4,
 "nbformat_minor": 5
}
