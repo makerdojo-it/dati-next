{
 "cells": [
  {
   "cell_type": "markdown",
   "id": "ac4e898d",
   "metadata": {},
   "source": [
    "# MNIST Digit Classification con PyTorch\n",
    "\n",
    "## 🎯 Panoramica del Progetto\n",
    "\n",
    "Questo notebook implementa una **rete neurale semplice** per classificare le cifre scritte a mano del dataset MNIST. Il modello usa una rete neurale feedforward con due strati nascosti.\n",
    "\n",
    "### 🏗️ Architettura del Modello\n",
    "- **Input**: 28×28 pixel (784 neuroni dopo il flatten)\n",
    "- **Hidden layer 1**: 128 neuroni + ReLU\n",
    "- **Hidden layer 2**: 64 neuroni + ReLU  \n",
    "- **Output**: 10 neuroni (una classe per ogni cifra 0-9)\n",
    "\n",
    "### 📊 Dataset MNIST\n",
    "- **Training set**: 60,000 immagini\n",
    "- **Test set**: 10,000 immagini\n",
    "- **Formato**: Immagini in scala di grigi 28×28 pixel\n",
    "\n",
    "### 🚀 Obiettivo\n",
    "Raggiungere un'accuratezza superiore al 95% nella classificazione delle cifre scritte a mano."
   ]
  },
  {
   "cell_type": "markdown",
   "id": "07a224b0",
   "metadata": {},
   "source": [
    "## 📚 Importazione delle Librerie\n",
    "\n",
    "Importiamo tutte le librerie necessarie per implementare e addestrare la nostra rete neurale:"
   ]
  },
  {
   "cell_type": "code",
   "execution_count": 3,
   "id": "671410d5",
   "metadata": {},
   "outputs": [
    {
     "name": "stdout",
     "output_type": "stream",
     "text": [
      "Requirement already satisfied: torch in /opt/anaconda3/lib/python3.12/site-packages (2.7.1)\n",
      "Requirement already satisfied: torchvision in /opt/anaconda3/lib/python3.12/site-packages (0.22.1)\n",
      "Requirement already satisfied: matplotlib in /opt/anaconda3/lib/python3.12/site-packages (3.9.2)\n",
      "Requirement already satisfied: filelock in /opt/anaconda3/lib/python3.12/site-packages (from torch) (3.13.1)\n",
      "Requirement already satisfied: typing-extensions>=4.10.0 in /opt/anaconda3/lib/python3.12/site-packages (from torch) (4.14.1)\n",
      "Requirement already satisfied: setuptools in /opt/anaconda3/lib/python3.12/site-packages (from torch) (80.9.0)\n",
      "Requirement already satisfied: sympy>=1.13.3 in /opt/anaconda3/lib/python3.12/site-packages (from torch) (1.14.0)\n",
      "Requirement already satisfied: networkx in /opt/anaconda3/lib/python3.12/site-packages (from torch) (3.3)\n",
      "Requirement already satisfied: jinja2 in /opt/anaconda3/lib/python3.12/site-packages (from torch) (3.1.4)\n",
      "Requirement already satisfied: fsspec in /opt/anaconda3/lib/python3.12/site-packages (from torch) (2024.6.1)\n",
      "Requirement already satisfied: numpy in /opt/anaconda3/lib/python3.12/site-packages (from torchvision) (1.26.4)\n",
      "Requirement already satisfied: pillow!=8.3.*,>=5.3.0 in /opt/anaconda3/lib/python3.12/site-packages (from torchvision) (10.4.0)\n",
      "Requirement already satisfied: contourpy>=1.0.1 in /opt/anaconda3/lib/python3.12/site-packages (from matplotlib) (1.2.0)\n",
      "Requirement already satisfied: cycler>=0.10 in /opt/anaconda3/lib/python3.12/site-packages (from matplotlib) (0.11.0)\n",
      "Requirement already satisfied: fonttools>=4.22.0 in /opt/anaconda3/lib/python3.12/site-packages (from matplotlib) (4.51.0)\n",
      "Requirement already satisfied: kiwisolver>=1.3.1 in /opt/anaconda3/lib/python3.12/site-packages (from matplotlib) (1.4.4)\n",
      "Requirement already satisfied: packaging>=20.0 in /opt/anaconda3/lib/python3.12/site-packages (from matplotlib) (24.1)\n",
      "Requirement already satisfied: pyparsing>=2.3.1 in /opt/anaconda3/lib/python3.12/site-packages (from matplotlib) (3.1.2)\n",
      "Requirement already satisfied: python-dateutil>=2.7 in /opt/anaconda3/lib/python3.12/site-packages (from matplotlib) (2.9.0.post0)\n",
      "Requirement already satisfied: six>=1.5 in /opt/anaconda3/lib/python3.12/site-packages (from python-dateutil>=2.7->matplotlib) (1.16.0)\n",
      "Requirement already satisfied: mpmath<1.4,>=1.1.0 in /opt/anaconda3/lib/python3.12/site-packages (from sympy>=1.13.3->torch) (1.3.0)\n",
      "Requirement already satisfied: MarkupSafe>=2.0 in /opt/anaconda3/lib/python3.12/site-packages (from jinja2->torch) (2.1.3)\n",
      "Requirement already satisfied: torchvision in /opt/anaconda3/lib/python3.12/site-packages (0.22.1)\n",
      "Requirement already satisfied: matplotlib in /opt/anaconda3/lib/python3.12/site-packages (3.9.2)\n",
      "Requirement already satisfied: filelock in /opt/anaconda3/lib/python3.12/site-packages (from torch) (3.13.1)\n",
      "Requirement already satisfied: typing-extensions>=4.10.0 in /opt/anaconda3/lib/python3.12/site-packages (from torch) (4.14.1)\n",
      "Requirement already satisfied: setuptools in /opt/anaconda3/lib/python3.12/site-packages (from torch) (80.9.0)\n",
      "Requirement already satisfied: sympy>=1.13.3 in /opt/anaconda3/lib/python3.12/site-packages (from torch) (1.14.0)\n",
      "Requirement already satisfied: networkx in /opt/anaconda3/lib/python3.12/site-packages (from torch) (3.3)\n",
      "Requirement already satisfied: jinja2 in /opt/anaconda3/lib/python3.12/site-packages (from torch) (3.1.4)\n",
      "Requirement already satisfied: fsspec in /opt/anaconda3/lib/python3.12/site-packages (from torch) (2024.6.1)\n",
      "Requirement already satisfied: numpy in /opt/anaconda3/lib/python3.12/site-packages (from torchvision) (1.26.4)\n",
      "Requirement already satisfied: pillow!=8.3.*,>=5.3.0 in /opt/anaconda3/lib/python3.12/site-packages (from torchvision) (10.4.0)\n",
      "Requirement already satisfied: contourpy>=1.0.1 in /opt/anaconda3/lib/python3.12/site-packages (from matplotlib) (1.2.0)\n",
      "Requirement already satisfied: cycler>=0.10 in /opt/anaconda3/lib/python3.12/site-packages (from matplotlib) (0.11.0)\n",
      "Requirement already satisfied: fonttools>=4.22.0 in /opt/anaconda3/lib/python3.12/site-packages (from matplotlib) (4.51.0)\n",
      "Requirement already satisfied: kiwisolver>=1.3.1 in /opt/anaconda3/lib/python3.12/site-packages (from matplotlib) (1.4.4)\n",
      "Requirement already satisfied: packaging>=20.0 in /opt/anaconda3/lib/python3.12/site-packages (from matplotlib) (24.1)\n",
      "Requirement already satisfied: pyparsing>=2.3.1 in /opt/anaconda3/lib/python3.12/site-packages (from matplotlib) (3.1.2)\n",
      "Requirement already satisfied: python-dateutil>=2.7 in /opt/anaconda3/lib/python3.12/site-packages (from matplotlib) (2.9.0.post0)\n",
      "Requirement already satisfied: six>=1.5 in /opt/anaconda3/lib/python3.12/site-packages (from python-dateutil>=2.7->matplotlib) (1.16.0)\n",
      "Requirement already satisfied: mpmath<1.4,>=1.1.0 in /opt/anaconda3/lib/python3.12/site-packages (from sympy>=1.13.3->torch) (1.3.0)\n",
      "Requirement already satisfied: MarkupSafe>=2.0 in /opt/anaconda3/lib/python3.12/site-packages (from jinja2->torch) (2.1.3)\n"
     ]
    }
   ],
   "source": [
    "!pip install torch torchvision matplotlib"
   ]
  },
  {
   "cell_type": "code",
   "execution_count": 4,
   "id": "40f6d0d9",
   "metadata": {},
   "outputs": [
    {
     "name": "stdout",
     "output_type": "stream",
     "text": [
      "✅ Librerie importate con successo!\n",
      "🔥 PyTorch versione: 2.7.1\n"
     ]
    }
   ],
   "source": [
    "import torch\n",
    "import torch.nn as nn\n",
    "import torch.optim as optim\n",
    "import torchvision\n",
    "import torchvision.transforms as transforms\n",
    "import matplotlib.pyplot as plt\n",
    "\n",
    "print(\"✅ Librerie importate con successo!\")\n",
    "print(f\"🔥 PyTorch versione: {torch.__version__}\")"
   ]
  },
  {
   "cell_type": "markdown",
   "id": "bde557d0",
   "metadata": {},
   "source": [
    "## 📁 Preparazione del Dataset\n",
    "\n",
    "Configuriamo le trasformazioni e carichiamo il dataset MNIST per training e test:"
   ]
  },
  {
   "cell_type": "code",
   "execution_count": 5,
   "id": "0ff74719",
   "metadata": {},
   "outputs": [
    {
     "name": "stdout",
     "output_type": "stream",
     "text": [
      "📊 Dataset caricato con successo!\n",
      "   • Training samples: 60,000\n",
      "   • Test samples: 10,000\n",
      "   • Batch size: 64\n",
      "   • Training batches: 938\n",
      "   • Test batches: 157\n"
     ]
    }
   ],
   "source": [
    "# Definisce le trasformazioni da applicare alle immagini\n",
    "# ToTensor() converte le immagini PIL in tensori PyTorch e normalizza i pixel da [0,255] a [0,1]\n",
    "transform = transforms.Compose([transforms.ToTensor()])\n",
    "\n",
    "# Carica il dataset MNIST per il training\n",
    "# root: cartella dove salvare/cercare i dati\n",
    "# train=True: dataset di training (60,000 immagini)\n",
    "# download=True: scarica automaticamente se non presente\n",
    "trainset = torchvision.datasets.MNIST(root='./data', train=True, download=True, transform=transform)\n",
    "trainloader = torch.utils.data.DataLoader(trainset, batch_size=64, shuffle=True)\n",
    "\n",
    "# Carica il dataset MNIST per il test\n",
    "# train=False: dataset di test (10,000 immagini)\n",
    "# shuffle=False: non mescolare per risultati riproducibili\n",
    "testset = torchvision.datasets.MNIST(root='./data', train=False, download=True, transform=transform)\n",
    "testloader = torch.utils.data.DataLoader(testset, batch_size=64, shuffle=False)\n",
    "\n",
    "print(\"📊 Dataset caricato con successo!\")\n",
    "print(f\"   • Training samples: {len(trainset):,}\")\n",
    "print(f\"   • Test samples: {len(testset):,}\")\n",
    "print(f\"   • Batch size: {trainloader.batch_size}\")\n",
    "print(f\"   • Training batches: {len(trainloader):,}\")\n",
    "print(f\"   • Test batches: {len(testloader):,}\")"
   ]
  },
  {
   "cell_type": "markdown",
   "id": "4537d7dd",
   "metadata": {},
   "source": [
    "## 🧠 Definizione della Rete Neurale\n",
    "\n",
    "Creiamo una rete neurale feedforward semplice ma efficace per la classificazione MNIST:"
   ]
  },
  {
   "cell_type": "code",
   "execution_count": 6,
   "id": "e1551f46",
   "metadata": {},
   "outputs": [
    {
     "name": "stdout",
     "output_type": "stream",
     "text": [
      "✅ Architettura della rete neurale definita!\n"
     ]
    }
   ],
   "source": [
    "class ReteSemplice(nn.Module):\n",
    "    \"\"\"\n",
    "    Rete neurale feedforward per la classificazione delle cifre MNIST.\n",
    "    \n",
    "    Architettura:\n",
    "    - Flatten: converte l'immagine 28x28 in un vettore di 784 elementi\n",
    "    - Linear(784, 128): primo strato completamente connesso\n",
    "    - ReLU: funzione di attivazione (introduce non-linearità)\n",
    "    - Linear(128, 64): secondo strato completamente connesso  \n",
    "    - ReLU: seconda funzione di attivazione\n",
    "    - Linear(64, 10): strato di output (10 classi per le cifre 0-9)\n",
    "    \"\"\"\n",
    "    def __init__(self):\n",
    "        super(ReteSemplice, self).__init__()\n",
    "        self.rete = nn.Sequential(\n",
    "            nn.Flatten(),         # Da 28x28 a 784 neuroni\n",
    "            nn.Linear(784, 128),  # Primo strato nascosto: 784 → 128\n",
    "            nn.ReLU(),           # Funzione di attivazione ReLU\n",
    "            nn.Linear(128, 64),   # Secondo strato nascosto: 128 → 64\n",
    "            nn.ReLU(),           # Seconda funzione di attivazione ReLU\n",
    "            nn.Linear(64, 10)     # Strato di output: 64 → 10 classi (cifre 0-9)\n",
    "        )\n",
    "    \n",
    "    def forward(self, x):\n",
    "        \"\"\"Definisce il passaggio in avanti attraverso la rete\"\"\"\n",
    "        return self.rete(x)\n",
    "\n",
    "print(\"✅ Architettura della rete neurale definita!\")"
   ]
  },
  {
   "cell_type": "markdown",
   "id": "0b856380",
   "metadata": {},
   "source": [
    "## 🔧 Inizializzazione del Modello\n",
    "\n",
    "Creiamo un'istanza del modello e contiamo i parametri addestrabili:"
   ]
  },
  {
   "cell_type": "code",
   "execution_count": 7,
   "id": "a5864117",
   "metadata": {},
   "outputs": [
    {
     "name": "stdout",
     "output_type": "stream",
     "text": [
      "🎯 Modello inizializzato con successo!\n",
      "   • Parametri totali: 109,386\n",
      "   • Parametri addestrabili: 109,386\n",
      "   • Architettura: ReteSemplice(\n",
      "  (rete): Sequential(\n",
      "    (0): Flatten(start_dim=1, end_dim=-1)\n",
      "    (1): Linear(in_features=784, out_features=128, bias=True)\n",
      "    (2): ReLU()\n",
      "    (3): Linear(in_features=128, out_features=64, bias=True)\n",
      "    (4): ReLU()\n",
      "    (5): Linear(in_features=64, out_features=10, bias=True)\n",
      "  )\n",
      ")\n",
      "   • Forma output: torch.Size([1, 10])\n",
      "✅ Test del modello superato!\n"
     ]
    }
   ],
   "source": [
    "# Crea un'istanza del modello\n",
    "modello = ReteSemplice()\n",
    "\n",
    "# Conta i parametri totali\n",
    "parametri_totali = sum(p.numel() for p in modello.parameters())\n",
    "parametri_addestrabili = sum(p.numel() for p in modello.parameters() if p.requires_grad)\n",
    "\n",
    "print(\"🎯 Modello inizializzato con successo!\")\n",
    "print(f\"   • Parametri totali: {parametri_totali:,}\")\n",
    "print(f\"   • Parametri addestrabili: {parametri_addestrabili:,}\")\n",
    "print(f\"   • Architettura: {modello}\")\n",
    "\n",
    "# Verifica che il modello funzioni con un input di esempio\n",
    "test_input = torch.randn(1, 1, 28, 28)  # Batch size 1, 1 canale, 28x28 pixel\n",
    "with torch.no_grad():\n",
    "    test_output = modello(test_input)\n",
    "    print(f\"   • Forma output: {test_output.shape}\")\n",
    "    print(\"✅ Test del modello superato!\")"
   ]
  },
  {
   "cell_type": "markdown",
   "id": "4d32ae5e",
   "metadata": {},
   "source": [
    "## ⚙️ Configurazione dell'Ottimizzazione\n",
    "\n",
    "Configuriamo la funzione di perdita e l'ottimizzatore per addestrare il modello:"
   ]
  },
  {
   "cell_type": "code",
   "execution_count": 8,
   "id": "d0c9857a",
   "metadata": {},
   "outputs": [
    {
     "name": "stdout",
     "output_type": "stream",
     "text": [
      "🔧 Configurazione dell'ottimizzazione completata:\n",
      "   • Funzione di perdita: CrossEntropyLoss\n",
      "   • Ottimizzatore: Adam\n",
      "   • Learning rate: 0.001\n",
      "✅ Pronto per l'addestramento!\n"
     ]
    }
   ],
   "source": [
    "# CrossEntropyLoss: funzione di perdita ideale per classificazione multi-classe\n",
    "# Combina LogSoftmax e NLLLoss in una sola funzione\n",
    "loss_fn = nn.CrossEntropyLoss()\n",
    "\n",
    "# Adam: algoritmo di ottimizzazione adattivo\n",
    "# lr=0.001: learning rate (velocità di apprendimento)\n",
    "ottimizzatore = optim.Adam(modello.parameters(), lr=0.001)\n",
    "\n",
    "print(\"🔧 Configurazione dell'ottimizzazione completata:\")\n",
    "print(f\"   • Funzione di perdita: {loss_fn.__class__.__name__}\")\n",
    "print(f\"   • Ottimizzatore: {ottimizzatore.__class__.__name__}\")\n",
    "print(f\"   • Learning rate: {ottimizzatore.param_groups[0]['lr']}\")\n",
    "print(\"✅ Pronto per l'addestramento!\")"
   ]
  },
  {
   "cell_type": "markdown",
   "id": "27b9fc1a",
   "metadata": {},
   "source": [
    "## 🚀 Funzione di Addestramento\n",
    "\n",
    "Implementiamo la funzione che gestisce il ciclo di addestramento:"
   ]
  },
  {
   "cell_type": "code",
   "execution_count": 14,
   "id": "194b3315",
   "metadata": {},
   "outputs": [
    {
     "name": "stdout",
     "output_type": "stream",
     "text": [
      "📝 Funzione di addestramento definita!\n"
     ]
    }
   ],
   "source": [
    "def train(modello, loader, epochs=3):\n",
    "    \"\"\"\n",
    "    Addestra il modello sui dati di training.\n",
    "    \n",
    "    Args:\n",
    "        modello: la rete neurale da addestrare\n",
    "        loader: DataLoader contenente i dati di training\n",
    "        epochs: numero di epoche di addestramento\n",
    "    \n",
    "    Il processo di training per ogni batch:\n",
    "    1. Forward pass: calcola le predizioni\n",
    "    2. Calcola la perdita confrontando predizioni e etichette reali\n",
    "    3. Backward pass: calcola i gradienti\n",
    "    4. Aggiorna i pesi del modello\n",
    "    \"\"\"\n",
    "    print(f\"🚀 Iniziando l'addestramento per {epochs} epoche...\")\n",
    "    \n",
    "    for epoca in range(epochs):\n",
    "        running_loss = 0.0\n",
    "        num_batches = 0\n",
    "        \n",
    "        for immagini, etichette in loader:\n",
    "            # Forward pass: calcola le predizioni del modello\n",
    "            outputs = modello(immagini)\n",
    "            \n",
    "            # Calcola la perdita (differenza tra predizioni e etichette reali)\n",
    "            loss = loss_fn(outputs, etichette)\n",
    "\n",
    "            # Backward pass: calcola i gradienti\n",
    "            ottimizzatore.zero_grad()  # Azzera i gradienti precedenti\n",
    "            loss.backward()            # Calcola i nuovi gradienti\n",
    "            ottimizzatore.step()       # Aggiorna i pesi del modello\n",
    "\n",
    "            running_loss += loss.item()\n",
    "            num_batches += 1\n",
    "            \n",
    "        avg_loss = running_loss / num_batches\n",
    "        print(f\"📊 Epoca {epoca+1}/{epochs} - Loss media: {avg_loss:.4f}\")\n",
    "    \n",
    "    print(\"✅ Addestramento completato!\")\n",
    "\n",
    "print(\"📝 Funzione di addestramento definita!\")"
   ]
  },
  {
   "cell_type": "markdown",
   "id": "2ec26c03",
   "metadata": {},
   "source": [
    "## 🎯 Esecuzione dell'Addestramento\n",
    "\n",
    "Addestriamo il modello per 3 epoche e monitoriamo la perdita:"
   ]
  },
  {
   "cell_type": "code",
   "execution_count": 10,
   "id": "fc61b735",
   "metadata": {},
   "outputs": [
    {
     "name": "stdout",
     "output_type": "stream",
     "text": [
      "🚀 Iniziando l'addestramento per 3 epoche...\n",
      "📊 Epoca 1/3 - Loss media: 0.3494\n",
      "📊 Epoca 1/3 - Loss media: 0.3494\n",
      "📊 Epoca 2/3 - Loss media: 0.1486\n",
      "📊 Epoca 2/3 - Loss media: 0.1486\n",
      "📊 Epoca 3/3 - Loss media: 0.1003\n",
      "✅ Addestramento completato!\n",
      "📊 Epoca 3/3 - Loss media: 0.1003\n",
      "✅ Addestramento completato!\n"
     ]
    }
   ],
   "source": [
    "# Avvia l'addestramento del modello\n",
    "train(modello, trainloader)"
   ]
  },
  {
   "cell_type": "markdown",
   "id": "cbdef1ca",
   "metadata": {},
   "source": [
    "## 📊 Funzione di Valutazione\n",
    "\n",
    "Implementiamo la funzione per valutare le prestazioni del modello:"
   ]
  },
  {
   "cell_type": "code",
   "execution_count": 11,
   "id": "5b34555c",
   "metadata": {},
   "outputs": [
    {
     "name": "stdout",
     "output_type": "stream",
     "text": [
      "📊 Funzione di valutazione definita!\n"
     ]
    }
   ],
   "source": [
    "def valuta(modello, loader):\n",
    "    \"\"\"\n",
    "    Valuta le prestazioni del modello sui dati di test.\n",
    "    \n",
    "    Args:\n",
    "        modello: la rete neurale addestrata\n",
    "        loader: DataLoader contenente i dati di test\n",
    "    \n",
    "    Returns:\n",
    "        float: accuratezza percentuale del modello\n",
    "    \n",
    "    Durante la valutazione:\n",
    "    - Disabilita il calcolo dei gradienti per efficienza\n",
    "    - Conta le predizioni corrette confrontandole con le etichette reali\n",
    "    - Calcola l'accuratezza come percentuale di predizioni corrette\n",
    "    \"\"\"\n",
    "    corrette = 0\n",
    "    totale = 0\n",
    "    \n",
    "    # torch.no_grad() disabilita il calcolo dei gradienti per efficienza\n",
    "    with torch.no_grad():\n",
    "        for immagini, etichette in loader:\n",
    "            # Ottieni le predizioni del modello\n",
    "            outputs = modello(immagini)\n",
    "            \n",
    "            # torch.max restituisce (valori_max, indici_max)\n",
    "            # Gli indici corrispondono alle classi predette (0-9)\n",
    "            _, predette = torch.max(outputs, 1)\n",
    "            \n",
    "            # Conta il numero totale di campioni\n",
    "            totale += etichette.size(0)\n",
    "            \n",
    "            # Conta le predizioni corrette\n",
    "            corrette += (predette == etichette).sum().item()\n",
    "    \n",
    "    accuratezza = 100 * corrette / totale\n",
    "    print(f\"📈 Risultati della valutazione:\")\n",
    "    print(f\"   • Campioni testati: {totale:,}\")\n",
    "    print(f\"   • Predizioni corrette: {corrette:,}\")\n",
    "    print(f\"   • Accuratezza: {accuratezza:.2f}%\")\n",
    "    \n",
    "    return accuratezza\n",
    "\n",
    "print(\"📊 Funzione di valutazione definita!\")"
   ]
  },
  {
   "cell_type": "markdown",
   "id": "7f915c4c",
   "metadata": {},
   "source": [
    "## 🎖️ Test delle Prestazioni\n",
    "\n",
    "Valutiamo l'accuratezza del modello addestrato sui dati di test:"
   ]
  },
  {
   "cell_type": "code",
   "execution_count": 12,
   "id": "06d53838",
   "metadata": {},
   "outputs": [
    {
     "name": "stdout",
     "output_type": "stream",
     "text": [
      "📈 Risultati della valutazione:\n",
      "   • Campioni testati: 10,000\n",
      "   • Predizioni corrette: 9,688\n",
      "   • Accuratezza: 96.88%\n",
      "🎉 Eccellente! Obiettivo raggiunto!\n"
     ]
    }
   ],
   "source": [
    "# Valuta il modello sui dati di test\n",
    "accuratezza_finale = valuta(modello, testloader)\n",
    "\n",
    "# Messaggio di congratulazioni basato sull'accuratezza\n",
    "if accuratezza_finale >= 95:\n",
    "    print(\"🎉 Eccellente! Obiettivo raggiunto!\")\n",
    "elif accuratezza_finale >= 90:\n",
    "    print(\"👍 Buono! Quasi all'obiettivo!\")\n",
    "else:\n",
    "    print(\"📈 C'è margine di miglioramento, prova ad aumentare le epoche!\")"
   ]
  },
  {
   "cell_type": "markdown",
   "id": "39083e60",
   "metadata": {},
   "source": [
    "## 🎨 Visualizzazione delle Predizioni\n",
    "\n",
    "Creiamo una visualizzazione per vedere come il modello sta performando su esempi specifici:"
   ]
  },
  {
   "cell_type": "code",
   "execution_count": 13,
   "id": "98f447fb",
   "metadata": {},
   "outputs": [
    {
     "name": "stdout",
     "output_type": "stream",
     "text": [
      "🎨 Creando visualizzazione delle predizioni...\n"
     ]
    },
    {
     "name": "stderr",
     "output_type": "stream",
     "text": [
      "/opt/anaconda3/lib/python3.12/site-packages/IPython/core/pylabtools.py:170: UserWarning: Glyph 128994 (\\N{LARGE GREEN CIRCLE}) missing from font(s) DejaVu Sans.\n",
      "  fig.canvas.print_figure(bytes_io, **kw)\n",
      "/opt/anaconda3/lib/python3.12/site-packages/IPython/core/pylabtools.py:170: UserWarning: Glyph 128308 (\\N{LARGE RED CIRCLE}) missing from font(s) DejaVu Sans.\n",
      "  fig.canvas.print_figure(bytes_io, **kw)\n"
     ]
    },
    {
     "data": {
      "image/png": "[encoded data removed]",
      "text/plain": [
       "<Figure size 1200x800 with 6 Axes>"
      ]
     },
     "metadata": {},
     "output_type": "display_data"
    },
    {
     "name": "stdout",
     "output_type": "stream",
     "text": [
      "📊 Accuratezza finale del modello: 96.88%\n",
      "🎯 Visualizzazione completata! Controlla i colori per vedere le predizioni corrette/errate.\n"
     ]
    }
   ],
   "source": [
    "print(\"🎨 Creando visualizzazione delle predizioni...\")\n",
    "\n",
    "# Ottieni un batch di dati di test\n",
    "dataiter = iter(testloader)\n",
    "immagini, etichette = next(dataiter)\n",
    "\n",
    "# Calcola le predizioni del modello\n",
    "output = modello(immagini)\n",
    "_, predizioni = torch.max(output, 1)\n",
    "\n",
    "# Crea una figura con 6 subplot (2 righe x 3 colonne)\n",
    "plt.figure(figsize=(12, 8))\n",
    "plt.suptitle('Predizioni del Modello MNIST', fontsize=16, fontweight='bold')\n",
    "\n",
    "# Mostra le prime 6 immagini con le relative predizioni\n",
    "for i in range(6):\n",
    "    plt.subplot(2, 3, i+1)\n",
    "    \n",
    "    # Mostra l'immagine in scala di grigi\n",
    "    plt.imshow(immagini[i][0], cmap='gray')\n",
    "    \n",
    "    # Determina il colore del titolo basato sulla correttezza della predizione\n",
    "    predizione = predizioni[i].item()\n",
    "    etichetta_vera = etichette[i].item()\n",
    "    colore = 'green' if predizione == etichetta_vera else 'red'\n",
    "    \n",
    "    # Imposta il titolo con informazioni dettagliate\n",
    "    plt.title(f\"Predetto: {predizione}\\nReale: {etichetta_vera}\", \n",
    "              color=colore, fontweight='bold')\n",
    "    \n",
    "    # Rimuovi gli assi per una visualizzazione più pulita\n",
    "    plt.axis('off')\n",
    "\n",
    "# Aggiungi una legenda\n",
    "plt.figtext(0.5, 0.02, \n",
    "           '🟢 Verde = Predizione Corretta | 🔴 Rosso = Predizione Errata', \n",
    "           ha='center', fontsize=12)\n",
    "\n",
    "plt.tight_layout()\n",
    "plt.show()\n",
    "\n",
    "print(f\"📊 Accuratezza finale del modello: {accuratezza_finale:.2f}%\")\n",
    "print(\"🎯 Visualizzazione completata! Controlla i colori per vedere le predizioni corrette/errate.\")"
   ]
  },
  {
   "cell_type": "markdown",
   "id": "3812697d",
   "metadata": {},
   "source": [
    "## 🎉 Conclusioni e Prossimi Passi\n",
    "\n",
    "### 📝 Riassunto\n",
    "Abbiamo implementato con successo una rete neurale per la classificazione MNIST che include:\n",
    "\n",
    "- ✅ **Preparazione del dataset** con trasformazioni appropriate\n",
    "- ✅ **Architettura semplice** ma efficace (784 → 128 → 64 → 10)\n",
    "- ✅ **Addestramento completo** con monitoraggio della perdita\n",
    "- ✅ **Valutazione delle prestazioni** con calcolo dell'accuratezza\n",
    "- ✅ **Visualizzazione dei risultati** con predizioni colorate\n",
    "\n",
    "### 🚀 Possibili Miglioramenti\n",
    "Per migliorare ulteriormente il modello, potresti provare:\n",
    "\n",
    "1. **Aumentare le epoche** di addestramento\n",
    "2. **Aggiungere più strati** alla rete neurale\n",
    "3. **Implementare tecniche di regolarizzazione** (Dropout, Batch Normalization)\n",
    "4. **Sperimentare con diversi ottimizzatori** (SGD, RMSprop)\n",
    "5. **Usare tecniche di data augmentation**\n",
    "6. **Implementare reti convoluzionali** (CNN) per migliori performance\n",
    "\n",
    "### 🎯 Obiettivi Raggiunti\n",
    "- [x] Comprensione dell'architettura delle reti neurali\n",
    "- [x] Implementazione completa del ciclo di addestramento\n",
    "- [x] Valutazione e visualizzazione dei risultati\n",
    "- [x] Creazione di un progetto di machine learning end-to-end\n",
    "\n",
    "**Congratulazioni! Hai completato con successo il tuo primo progetto di classificazione di immagini!** 🎊"
   ]
  }
 ],
 "metadata": {
  "kernelspec": {
   "display_name": "base",
   "language": "python",
   "name": "python3"
  },
  "language_info": {
   "codemirror_mode": {
    "name": "ipython",
    "version": 3
   },
   "file_extension": ".py",
   "mimetype": "text/x-python",
   "name": "python",
   "nbconvert_exporter": "python",
   "pygments_lexer": "ipython3",
   "version": "3.12.7"
  }
 },
 "nbformat": 4,
 "nbformat_minor": 5
}
